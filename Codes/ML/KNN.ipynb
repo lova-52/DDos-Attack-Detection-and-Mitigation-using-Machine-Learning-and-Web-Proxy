{
 "cells": [
  {
   "cell_type": "code",
   "execution_count": 7,
   "id": "c0106658-72f2-4a95-99cb-b29c9713056a",
   "metadata": {},
   "outputs": [],
   "source": [
    "from datetime import datetime\n",
    "from matplotlib import pyplot as plt\n",
    "import pandas as pd\n",
    "from sklearn.model_selection import train_test_split\n",
    "from sklearn.neighbors import KNeighborsClassifier\n",
    "from sklearn.neighbors import BallTree\n",
    "from sklearn.metrics import confusion_matrix, accuracy_score, precision_score, recall_score, f1_score\n",
    "from tqdm import tqdm"
   ]
  },
  {
   "cell_type": "code",
   "execution_count": 8,
   "id": "e7fd8452-6e9f-44b1-8d00-c09b913f7c17",
   "metadata": {},
   "outputs": [],
   "source": [
    "class MachineLearning():\n",
    "\n",
    "    def __init__(self):\n",
    "        print(\"Loading dataset ...\")\n",
    "        self.flow_dataset = pd.read_csv('FlowStatsfile.csv')\n",
    "        print(\"Dataset loaded successfully.\")\n",
    "\n",
    "        print(\"Cleaning dataset ...\")\n",
    "        # Example: Applying progress bar to a column processing loop\n",
    "        for col in tqdm([2, 3, 5], desc=\"Cleaning columns\"):\n",
    "            self.flow_dataset.iloc[:, col] = self.flow_dataset.iloc[:, col].str.replace('.', '')\n",
    "        print(\"Dataset cleaning complete.\")\n",
    "    \n",
    "    def flow_training(self):\n",
    "        print(\"Starting flow training ...\")\n",
    "        \n",
    "        X_flow = self.flow_dataset.iloc[:, :-1].values\n",
    "        X_flow = X_flow.astype('float64')\n",
    "\n",
    "        y_flow = self.flow_dataset.iloc[:, -1].values\n",
    "        print(\"Feature and target variables prepared.\")\n",
    "\n",
    "        print(\"Splitting dataset into training and test sets ...\")\n",
    "        X_flow_train, X_flow_test, y_flow_train, y_flow_test = train_test_split(X_flow, y_flow, test_size=0.25, random_state=0)\n",
    "        print(f\"Dataset split complete: {len(X_flow_train)} training samples, {len(X_flow_test)} test samples.\")\n",
    "        \n",
    "        print(\"Training the KNN classifier ...\")\n",
    "        classifier = KNeighborsClassifier(n_neighbors=4, algorithm='ball_tree', n_jobs=-1)\n",
    "\n",
    "        # Training the model\n",
    "        for _ in tqdm(range(1), desc=\"Training model\"):  # This will track one \"epoch\", since training is instant in KNN\n",
    "            flow_model = classifier.fit(X_flow_train, y_flow_train)\n",
    "        print(\"Model training complete.\")\n",
    "        \n",
    "        print(\"Making predictions on the test set ...\")\n",
    "        y_flow_pred = flow_model.predict(X_flow_test)\n",
    "        print(\"Prediction complete.\")\n",
    "        \n",
    "        print(\"------------------------------------------------------------------------------\")\n",
    "        print(\"Confusion Matrix:\")\n",
    "        cm = confusion_matrix(y_flow_test, y_flow_pred)\n",
    "        print(cm)\n",
    "\n",
    "        # Calculate accuracy, precision, recall, F1 score\n",
    "        acc = accuracy_score(y_flow_test, y_flow_pred)\n",
    "        precision = precision_score(y_flow_test, y_flow_pred, average='binary')\n",
    "        recall = recall_score(y_flow_test, y_flow_pred, average='binary')\n",
    "        f1 = f1_score(y_flow_test, y_flow_pred, average='binary')\n",
    "\n",
    "        print(f\"Accuracy = {acc*100:.2f} %\")\n",
    "        print(f\"Precision = {precision*100:.2f} %\")\n",
    "        print(f\"Recall = {recall*100:.2f} %\")\n",
    "        print(f\"F1 Score = {f1*100:.2f} %\")\n",
    "        print(\"------------------------------------------------------------------------------\")\n",
    "\n",
    "        # Plot the confusion matrix\n",
    "        x = ['TP', 'FP', 'FN', 'TN']\n",
    "        plt.title(\"KNN Confusion Matrix\")\n",
    "        plt.xlabel('Class predict')\n",
    "        plt.ylabel('Numbers of flows')\n",
    "        plt.tight_layout()\n",
    "        plt.style.use(\"ggplot\")\n",
    "        y = [cm[0][0], cm[0][1], cm[1][0], cm[1][1]]\n",
    "        plt.bar(x, y, color=\"#000000\", label='KNN')\n",
    "        plt.legend()\n",
    "        plt.show()\n"
   ]
  },
  {
   "cell_type": "code",
   "execution_count": 9,
   "id": "2b25349f-492d-4689-ba8b-588d85fbe6dd",
   "metadata": {},
   "outputs": [
    {
     "name": "stdout",
     "output_type": "stream",
     "text": [
      "Loading dataset ...\n",
      "Dataset loaded successfully.\n",
      "Cleaning dataset ...\n"
     ]
    },
    {
     "name": "stderr",
     "output_type": "stream",
     "text": [
      "Cleaning columns: 100%|██████████████████████████████████████████████████████████████████| 3/3 [00:02<00:00,  1.31it/s]\n"
     ]
    },
    {
     "name": "stdout",
     "output_type": "stream",
     "text": [
      "Dataset cleaning complete.\n",
      "Starting flow training ...\n",
      "Feature and target variables prepared.\n",
      "Splitting dataset into training and test sets ...\n",
      "Dataset split complete: 2000642 training samples, 666881 test samples.\n",
      "Training the KNN classifier ...\n"
     ]
    },
    {
     "name": "stderr",
     "output_type": "stream",
     "text": [
      "Training model: 100%|████████████████████████████████████████████████████████████████████| 1/1 [00:25<00:00, 25.12s/it]\n"
     ]
    },
    {
     "name": "stdout",
     "output_type": "stream",
     "text": [
      "Model training complete.\n",
      "Making predictions on the test set ...\n",
      "Prediction complete.\n",
      "------------------------------------------------------------------------------\n",
      "Confusion Matrix:\n",
      "[[226596      0]\n",
      " [     4 440281]]\n",
      "Accuracy = 100.00 %\n",
      "Precision = 100.00 %\n",
      "Recall = 100.00 %\n",
      "F1 Score = 100.00 %\n",
      "------------------------------------------------------------------------------\n"
     ]
    },
    {
     "data": {
      "image/png": "[encoded data removed]",
      "text/plain": [
       "<Figure size 640x480 with 1 Axes>"
      ]
     },
     "metadata": {},
     "output_type": "display_data"
    },
    {
     "name": "stdout",
     "output_type": "stream",
     "text": [
      "Training time:  0:01:42.207216\n"
     ]
    }
   ],
   "source": [
    "def main():\n",
    "    start = datetime.now()\n",
    "    \n",
    "    ml = MachineLearning()\n",
    "    ml.flow_training()\n",
    "\n",
    "    end = datetime.now()\n",
    "    print(\"Training time: \", (end-start)) \n",
    "\n",
    "if __name__ == \"__main__\":\n",
    "    main()"
   ]
  },
  {
   "cell_type": "code",
   "execution_count": null,
   "id": "ed6e4f3c-131c-46af-86e8-02bc6f1ca12f",
   "metadata": {},
   "outputs": [],
   "source": []
  }
 ],
 "metadata": {
  "kernelspec": {
   "display_name": "Python 3 (ipykernel)",
   "language": "python",
   "name": "python3"
  },
  "language_info": {
   "codemirror_mode": {
    "name": "ipython",
    "version": 3
   },
   "file_extension": ".py",
   "mimetype": "text/x-python",
   "name": "python",
   "nbconvert_exporter": "python",
   "pygments_lexer": "ipython3",
   "version": "3.12.0b4"
  }
 },
 "nbformat": 4,
 "nbformat_minor": 5
}
