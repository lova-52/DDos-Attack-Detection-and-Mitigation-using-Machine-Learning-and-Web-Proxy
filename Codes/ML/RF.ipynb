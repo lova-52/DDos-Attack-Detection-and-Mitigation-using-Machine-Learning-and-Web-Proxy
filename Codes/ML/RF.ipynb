{
 "cells": [
  {
   "cell_type": "code",
   "execution_count": 1,
   "id": "a9fa1662-6065-417d-8a63-282876054f68",
   "metadata": {},
   "outputs": [
    {
     "name": "stdout",
     "output_type": "stream",
     "text": [
      "Requirement already satisfied: joblib in c:\\python\\python312\\lib\\site-packages (1.4.2)\n"
     ]
    }
   ],
   "source": [
    "!pip install joblib\n"
   ]
  },
  {
   "cell_type": "code",
   "execution_count": 2,
   "id": "c0106658-72f2-4a95-99cb-b29c9713056a",
   "metadata": {},
   "outputs": [],
   "source": [
    "from datetime import datetime\n",
    "from matplotlib import pyplot as plt\n",
    "import pandas as pd\n",
    "import time\n",
    "import joblib\n",
    "import os\n",
    "from sklearn.model_selection import train_test_split\n",
    "from sklearn.ensemble import RandomForestClassifier\n",
    "from sklearn.metrics import confusion_matrix, accuracy_score, precision_score, recall_score, f1_score"
   ]
  },
  {
   "cell_type": "code",
   "execution_count": 11,
   "id": "e7fd8452-6e9f-44b1-8d00-c09b913f7c17",
   "metadata": {},
   "outputs": [],
   "source": [
    "class MachineLearning():\n",
    "\n",
    "    def __init__(self):\n",
    "        print(\"Initializing ML Workflow...\")\n",
    "\n",
    "    def load_and_preprocess_data(self, file_path='FlowStatsfile.csv'):\n",
    "        \"\"\" Load and preprocess the dataset \"\"\"\n",
    "        print(\"Loading dataset ...\")\n",
    "        \n",
    "        self.flow_dataset = pd.read_csv(file_path)\n",
    "\n",
    "        # Clean numerical columns (remove periods)\n",
    "        self.flow_dataset.iloc[:, 2] = self.flow_dataset.iloc[:, 2].str.replace('.', '')\n",
    "        self.flow_dataset.iloc[:, 3] = self.flow_dataset.iloc[:, 3].str.replace('.', '')\n",
    "        self.flow_dataset.iloc[:, 5] = self.flow_dataset.iloc[:, 5].str.replace('.', '')\n",
    "\n",
    "        # Exclude the 'flags' feature (assuming 'flags' is the name of the feature you want to exclude)\n",
    "        # You can update this line if the 'flags' feature has a different name in your dataset\n",
    "        self.flow_dataset = self.flow_dataset.drop(columns=['flags'])\n",
    "\n",
    "        # Convert data to float for model input\n",
    "        self.X_flow = self.flow_dataset.iloc[:, :-1].values\n",
    "        self.X_flow = self.X_flow.astype('float64')\n",
    "\n",
    "        self.y_flow = self.flow_dataset.iloc[:, -1].values\n",
    "\n",
    "        print(f\"Data loaded and preprocessed. Shape of data: {self.X_flow.shape}\")\n",
    "\n",
    "    def split_data(self, test_size=0.25):\n",
    "        \"\"\" Split data into training and test sets \"\"\"\n",
    "        print(\"Splitting data into training and test sets ...\")\n",
    "        self.X_train, self.X_test, self.y_train, self.y_test = train_test_split(\n",
    "            self.X_flow, self.y_flow, test_size=test_size, random_state=0)\n",
    "        print(f\"Training data: {self.X_train.shape}, Test data: {self.X_test.shape}\")\n",
    "\n",
    "    def train_model(self, n_estimators=10, criterion=\"entropy\"):\n",
    "        \"\"\" Train the Random Forest model and measure training time \"\"\"\n",
    "        print(f\"Training Random Forest model with {n_estimators} estimators ...\")\n",
    "\n",
    "        # Record the start time\n",
    "        start_time = time.time()\n",
    "\n",
    "        # Train the model\n",
    "        self.classifier = RandomForestClassifier(\n",
    "            n_estimators=n_estimators, criterion=criterion, random_state=0)\n",
    "        self.model = self.classifier.fit(self.X_train, self.y_train)\n",
    "\n",
    "        # Record the end time\n",
    "        end_time = time.time()\n",
    "        \n",
    "        # Calculate and print the training time\n",
    "        training_time = end_time - start_time\n",
    "        print(\"Model trained successfully.\")\n",
    "        \n",
    "        print(f\"Model trained successfully in {training_time:.2f} seconds.\")\n",
    "\n",
    "    def evaluate_model(self):\n",
    "        \"\"\" Evaluate the model using different metrics \"\"\"\n",
    "        print(\"Evaluating model ...\")\n",
    "        \n",
    "        y_pred = self.model.predict(self.X_test)\n",
    "\n",
    "        # Confusion Matrix\n",
    "        cm = confusion_matrix(self.y_test, y_pred)\n",
    "        print(f\"Confusion Matrix:\\n{cm}\")\n",
    "\n",
    "        # Metrics\n",
    "        acc = accuracy_score(self.y_test, y_pred)\n",
    "        precision = precision_score(self.y_test, y_pred)\n",
    "        recall = recall_score(self.y_test, y_pred)\n",
    "        f1 = f1_score(self.y_test, y_pred)\n",
    "\n",
    "        return cm, acc, precision, recall, f1\n",
    "\n",
    "    def save_model(self, filename='random_forest_model.joblib'):\n",
    "        \"\"\" Save the trained model to a file \"\"\"\n",
    "        print(f\"Saving model to {filename} ...\")\n",
    "        joblib.dump(self.model, filename)\n",
    "        print(f\"Model saved successfully to {filename}.\")\n",
    "\n",
    "    def plot_confusion_matrix(self, cm):\n",
    "        \"\"\" Plot the confusion matrix as a bar chart \"\"\"\n",
    "        print(\"Plotting confusion matrix ...\")\n",
    "        \n",
    "        x = ['TP', 'FP', 'FN', 'TN']\n",
    "        plt.title(\"Random Forest Confusion Matrix\")\n",
    "        plt.xlabel('Class Prediction')\n",
    "        plt.ylabel('Number of Flows')\n",
    "        plt.tight_layout()\n",
    "        plt.style.use(\"ggplot\")\n",
    "        y = [cm[0][0], cm[0][1], cm[1][0], cm[1][1]]\n",
    "        plt.bar(x, y, color=\"#000000\", label='RF')\n",
    "        plt.legend()\n",
    "        plt.show()"
   ]
  },
  {
   "cell_type": "code",
   "execution_count": 12,
   "id": "e8b59758-1ac9-443a-bbd8-e71afee8e482",
   "metadata": {},
   "outputs": [
    {
     "name": "stdout",
     "output_type": "stream",
     "text": [
      "Initializing ML Workflow...\n"
     ]
    }
   ],
   "source": [
    "# Instantiate the class and call methods|\n",
    "ml = MachineLearning()\n",
    "start = datetime.now()"
   ]
  },
  {
   "cell_type": "code",
   "execution_count": 13,
   "id": "d87f50e8-0e7b-474f-9dae-d2db3165d543",
   "metadata": {},
   "outputs": [
    {
     "name": "stdout",
     "output_type": "stream",
     "text": [
      "Loading dataset ...\n",
      "Data loaded and preprocessed. Shape of data: (2667523, 20)\n"
     ]
    }
   ],
   "source": [
    "# 1. Load and preprocess the dataset\n",
    "ml.load_and_preprocess_data()"
   ]
  },
  {
   "cell_type": "code",
   "execution_count": 14,
   "id": "a6ec188c-5bf8-4615-89dc-a7fba38ce304",
   "metadata": {},
   "outputs": [
    {
     "name": "stdout",
     "output_type": "stream",
     "text": [
      "Splitting data into training and test sets ...\n",
      "Training data: (2000642, 20), Test data: (666881, 20)\n"
     ]
    }
   ],
   "source": [
    "# 2. Split the data into train and test sets\n",
    "ml.split_data()"
   ]
  },
  {
   "cell_type": "code",
   "execution_count": 15,
   "id": "6b6d7d3e-208f-43c7-850b-1d649bf00fe2",
   "metadata": {},
   "outputs": [
    {
     "name": "stdout",
     "output_type": "stream",
     "text": [
      "Training Random Forest model with 10 estimators ...\n",
      "Model trained successfully.\n",
      "Model trained successfully in 37.00 seconds.\n"
     ]
    }
   ],
   "source": [
    "# 3. Train the Random Forest model\n",
    "ml.train_model()"
   ]
  },
  {
   "cell_type": "code",
   "execution_count": 16,
   "id": "887d36c0-a009-4f4d-9fbd-8ef0391594ca",
   "metadata": {},
   "outputs": [
    {
     "name": "stdout",
     "output_type": "stream",
     "text": [
      "Evaluating model ...\n",
      "Confusion Matrix:\n",
      "[[226596      0]\n",
      " [     3 440282]]\n"
     ]
    }
   ],
   "source": [
    "# 4. Evaluate the model and get metrics\n",
    "cm, acc, precision, recall, f1 = ml.evaluate_model()"
   ]
  },
  {
   "cell_type": "code",
   "execution_count": 17,
   "id": "d59d7784-10f5-4a86-9715-cd1ac07d4733",
   "metadata": {},
   "outputs": [
    {
     "name": "stdout",
     "output_type": "stream",
     "text": [
      "Saving model to random_forest_model.joblib ...\n",
      "Model saved successfully to random_forest_model.joblib.\n"
     ]
    }
   ],
   "source": [
    "# 5. Save the model\n",
    "ml.save_model()"
   ]
  },
  {
   "cell_type": "code",
   "execution_count": 18,
   "id": "c6b55790-15bc-4f0a-bc36-2a2fb8e6f13b",
   "metadata": {},
   "outputs": [
    {
     "name": "stdout",
     "output_type": "stream",
     "text": [
      "Plotting confusion matrix ...\n"
     ]
    },
    {
     "data": {
      "image/png": "[encoded data removed]",
      "text/plain": [
       "<Figure size 640x480 with 1 Axes>"
      ]
     },
     "metadata": {},
     "output_type": "display_data"
    },
    {
     "name": "stdout",
     "output_type": "stream",
     "text": [
      "Total training time:  0:01:17.119852\n"
     ]
    }
   ],
   "source": [
    "# 6. Plot the confusion matrix\n",
    "ml.plot_confusion_matrix(cm)\n",
    "\n",
    "end = datetime.now()\n",
    "print(\"Total training time: \", (end-start))"
   ]
  },
  {
   "cell_type": "code",
   "execution_count": null,
   "id": "ed6e4f3c-131c-46af-86e8-02bc6f1ca12f",
   "metadata": {},
   "outputs": [],
   "source": []
  }
 ],
 "metadata": {
  "kernelspec": {
   "display_name": "Python 3 (ipykernel)",
   "language": "python",
   "name": "python3"
  },
  "language_info": {
   "codemirror_mode": {
    "name": "ipython",
    "version": 3
   },
   "file_extension": ".py",
   "mimetype": "text/x-python",
   "name": "python",
   "nbconvert_exporter": "python",
   "pygments_lexer": "ipython3",
   "version": "3.12.0b4"
  }
 },
 "nbformat": 4,
 "nbformat_minor": 5
}
