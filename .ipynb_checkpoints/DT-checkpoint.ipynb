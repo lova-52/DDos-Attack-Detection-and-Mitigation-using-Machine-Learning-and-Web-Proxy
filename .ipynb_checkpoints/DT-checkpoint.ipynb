{
 "cells": [
  {
   "cell_type": "code",
   "execution_count": 4,
   "id": "c0106658-72f2-4a95-99cb-b29c9713056a",
   "metadata": {},
   "outputs": [],
   "source": [
    "from datetime import datetime\n",
    "from matplotlib import pyplot as plt\n",
    "import pandas as pd\n",
    "from sklearn.model_selection import train_test_split\n",
    "from sklearn.ensemble import RandomForestClassifier\n",
    "from sklearn.metrics import confusion_matrix\n",
    "from sklearn.metrics import accuracy_score"
   ]
  },
  {
   "cell_type": "code",
   "execution_count": 5,
   "id": "e7fd8452-6e9f-44b1-8d00-c09b913f7c17",
   "metadata": {},
   "outputs": [],
   "source": [
    "class MachineLearning():\n",
    "\n",
    "    def __init__(self):\n",
    "        \n",
    "        print(\"Loading dataset ...\")\n",
    "        \n",
    "        self.flow_dataset = pd.read_csv('FlowStatsfile.csv')\n",
    "\n",
    "        self.flow_dataset.iloc[:, 2] = self.flow_dataset.iloc[:, 2].str.replace('.', '')\n",
    "        self.flow_dataset.iloc[:, 3] = self.flow_dataset.iloc[:, 3].str.replace('.', '')\n",
    "        self.flow_dataset.iloc[:, 5] = self.flow_dataset.iloc[:, 5].str.replace('.', '')       \n",
    "\n",
    "    def flow_training(self):\n",
    "\n",
    "        print(\"Flow Training ...\")\n",
    "        \n",
    "        X_flow = self.flow_dataset.iloc[:, :-1].values\n",
    "        X_flow = X_flow.astype('float64')\n",
    "\n",
    "        y_flow = self.flow_dataset.iloc[:, -1].values\n",
    "\n",
    "        X_flow_train, X_flow_test, y_flow_train, y_flow_test = train_test_split(X_flow, y_flow, test_size=0.25, random_state=0)\n",
    "\n",
    "        classifier = RandomForestClassifier(n_estimators=10, criterion=\"entropy\", random_state=0)\n",
    "        flow_model = classifier.fit(X_flow_train, y_flow_train)\n",
    "\n",
    "        y_flow_pred = flow_model.predict(X_flow_test)\n",
    "\n",
    "        print(\"------------------------------------------------------------------------------\")\n",
    "\n",
    "        print(\"confusion matrix\")\n",
    "        cm = confusion_matrix(y_flow_test, y_flow_pred)\n",
    "        print(cm)\n",
    "\n",
    "        acc = accuracy_score(y_flow_test, y_flow_pred)\n",
    "\n",
    "        print(\"succes accuracy = {0:.2f} %\".format(acc*100))\n",
    "        fail = 1.0 - acc\n",
    "        print(\"fail accuracy = {0:.2f} %\".format(fail*100))\n",
    "        print(\"------------------------------------------------------------------------------\")\n",
    "        \n",
    "        x = ['TP','FP','FN','TN']\n",
    "        plt.title(\"Random Forest\")\n",
    "        plt.xlabel('Class predict')\n",
    "        plt.ylabel('Numbers of flows')\n",
    "        plt.tight_layout()\n",
    "        plt.style.use(\"ggplot\")\n",
    "        y = [cm[0][0],cm[0][1],cm[1][0],cm[1][1]]\n",
    "        plt.bar(x,y, color=\"#000000\", label='RF')\n",
    "        plt.legend()\n",
    "        plt.show()"
   ]
  },
  {
   "cell_type": "code",
   "execution_count": 6,
   "id": "2b25349f-492d-4689-ba8b-588d85fbe6dd",
   "metadata": {},
   "outputs": [
    {
     "name": "stdout",
     "output_type": "stream",
     "text": [
      "Loading dataset ...\n",
      "Flow Training ...\n",
      "------------------------------------------------------------------------------\n",
      "confusion matrix\n",
      "[[226596      0]\n",
      " [     3 440282]]\n",
      "succes accuracy = 100.00 %\n",
      "fail accuracy = 0.00 %\n",
      "------------------------------------------------------------------------------\n"
     ]
    },
    {
     "data": {
      "image/png": "[encoded data removed]",
      "text/plain": [
       "<Figure size 640x480 with 1 Axes>"
      ]
     },
     "metadata": {},
     "output_type": "display_data"
    },
    {
     "name": "stdout",
     "output_type": "stream",
     "text": [
      "Training time:  0:00:37.644670\n"
     ]
    }
   ],
   "source": [
    "def main():\n",
    "    start = datetime.now()\n",
    "    \n",
    "    ml = MachineLearning()\n",
    "    ml.flow_training()\n",
    "\n",
    "    end = datetime.now()\n",
    "    print(\"Training time: \", (end-start)) \n",
    "\n",
    "if __name__ == \"__main__\":\n",
    "    main()"
   ]
  },
  {
   "cell_type": "code",
   "execution_count": null,
   "id": "ed6e4f3c-131c-46af-86e8-02bc6f1ca12f",
   "metadata": {},
   "outputs": [],
   "source": []
  }
 ],
 "metadata": {
  "kernelspec": {
   "display_name": "Python 3 (ipykernel)",
   "language": "python",
   "name": "python3"
  },
  "language_info": {
   "codemirror_mode": {
    "name": "ipython",
    "version": 3
   },
   "file_extension": ".py",
   "mimetype": "text/x-python",
   "name": "python",
   "nbconvert_exporter": "python",
   "pygments_lexer": "ipython3",
   "version": "3.12.0b4"
  }
 },
 "nbformat": 4,
 "nbformat_minor": 5
}
