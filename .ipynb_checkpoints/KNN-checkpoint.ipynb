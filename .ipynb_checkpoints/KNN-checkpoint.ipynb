{
 "cells": [
  {
   "cell_type": "code",
   "execution_count": 1,
   "id": "c0106658-72f2-4a95-99cb-b29c9713056a",
   "metadata": {},
   "outputs": [],
   "source": [
    "from datetime import datetime\n",
    "from matplotlib import pyplot as plt\n",
    "import pandas as pd\n",
    "from sklearn.model_selection import train_test_split\n",
    "from sklearn.neighbors import KNeighborsClassifier\n",
    "from sklearn.metrics import confusion_matrix\n",
    "from sklearn.metrics import accuracy_score"
   ]
  },
  {
   "cell_type": "code",
   "execution_count": 2,
   "id": "620f6780-fbe0-47ca-8315-d0f26d2bac35",
   "metadata": {
    "scrolled": true
   },
   "outputs": [
    {
     "name": "stdout",
     "output_type": "stream",
     "text": [
      "Collecting tqdm\n",
      "  Downloading tqdm-4.67.1-py3-none-any.whl.metadata (57 kB)\n",
      "Requirement already satisfied: colorama in c:\\python\\python312\\lib\\site-packages (from tqdm) (0.4.6)\n",
      "Downloading tqdm-4.67.1-py3-none-any.whl (78 kB)\n",
      "Installing collected packages: tqdm\n",
      "Successfully installed tqdm-4.67.1\n"
     ]
    }
   ],
   "source": [
    "!pip install tqdm"
   ]
  },
  {
   "cell_type": "code",
   "execution_count": null,
   "id": "0d0f068d-8e28-4559-8743-b2f0959a01ef",
   "metadata": {},
   "outputs": [],
   "source": [
    "from tqdm import tqdm"
   ]
  },
  {
   "cell_type": "code",
   "execution_count": 3,
   "id": "e7fd8452-6e9f-44b1-8d00-c09b913f7c17",
   "metadata": {},
   "outputs": [],
   "source": [
    "from tqdm import tqdm\n",
    "\n",
    "class MachineLearning():\n",
    "\n",
    "    def __init__(self):\n",
    "        print(\"Loading dataset ...\")\n",
    "        self.flow_dataset = pd.read_csv('FlowStatsfile.csv')\n",
    "        print(\"Dataset loaded successfully.\")\n",
    "\n",
    "        print(\"Cleaning dataset ...\")\n",
    "        # Example: Applying progress bar to a column processing loop\n",
    "        for col in tqdm([2, 3, 5], desc=\"Cleaning columns\"):\n",
    "            self.flow_dataset.iloc[:, col] = self.flow_dataset.iloc[:, col].str.replace('.', '')\n",
    "        print(\"Dataset cleaning complete.\")\n",
    "    \n",
    "    def flow_training(self):\n",
    "        print(\"Starting flow training ...\")\n",
    "        \n",
    "        X_flow = self.flow_dataset.iloc[:, :-1].values\n",
    "        X_flow = X_flow.astype('float64')\n",
    "\n",
    "        y_flow = self.flow_dataset.iloc[:, -1].values\n",
    "        print(\"Feature and target variables prepared.\")\n",
    "\n",
    "        print(\"Splitting dataset into training and test sets ...\")\n",
    "        X_flow_train, X_flow_test, y_flow_train, y_flow_test = train_test_split(X_flow, y_flow, test_size=0.25, random_state=0)\n",
    "        print(f\"Dataset split complete: {len(X_flow_train)} training samples, {len(X_flow_test)} test samples.\")\n",
    "        \n",
    "        print(\"Training the KNN classifier ...\")\n",
    "        classifier = KNeighborsClassifier(n_neighbors=5, metric='minkowski', p=2)\n",
    "\n",
    "        # Example: You can track training epochs if any (though KNN doesn't have epochs, you could use it for other iterative methods)\n",
    "        for _ in tqdm(range(1), desc=\"Training model\"):  # This will track one \"epoch\", since training is instant in KNN\n",
    "            flow_model = classifier.fit(X_flow_train, y_flow_train)\n",
    "        print(\"Model training complete.\")\n",
    "        \n",
    "        print(\"Making predictions on the test set ...\")\n",
    "        y_flow_pred = flow_model.predict(X_flow_test)\n",
    "        print(\"Prediction complete.\")\n",
    "        \n",
    "        print(\"------------------------------------------------------------------------------\")\n",
    "        print(\"Confusion Matrix:\")\n",
    "        cm = confusion_matrix(y_flow_test, y_flow_pred)\n",
    "        print(cm)\n",
    "\n",
    "        acc = accuracy_score(y_flow_test, y_flow_pred)\n",
    "        print(f\"Success accuracy = {acc*100:.2f} %\")\n",
    "        fail = 1.0 - acc\n",
    "        print(f\"Fail accuracy = {fail*100:.2f} %\")\n",
    "        print(\"------------------------------------------------------------------------------\")\n",
    "\n",
    "        x = ['TP', 'FP', 'FN', 'TN']\n",
    "        plt.title(\"KNN\")\n",
    "        plt.xlabel('Class predict')\n",
    "        plt.ylabel('Numbers of flows')\n",
    "        plt.tight_layout()\n",
    "        plt.style.use(\"ggplot\")\n",
    "        y = [cm[0][0], cm[0][1], cm[1][0], cm[1][1]]\n",
    "        plt.bar(x, y, color=\"#000000\", label='KNN')\n",
    "        plt.legend()\n",
    "        plt.show()\n"
   ]
  },
  {
   "cell_type": "code",
   "execution_count": null,
   "id": "2b25349f-492d-4689-ba8b-588d85fbe6dd",
   "metadata": {},
   "outputs": [
    {
     "name": "stdout",
     "output_type": "stream",
     "text": [
      "Loading dataset ...\n",
      "Dataset loaded successfully.\n",
      "Cleaning dataset ...\n"
     ]
    },
    {
     "name": "stderr",
     "output_type": "stream",
     "text": [
      "Cleaning columns: 100%|██████████████████████████████████████████████████████████████████| 3/3 [00:02<00:00,  1.40it/s]\n"
     ]
    },
    {
     "name": "stdout",
     "output_type": "stream",
     "text": [
      "Dataset cleaning complete.\n",
      "Starting flow training ...\n",
      "Feature and target variables prepared.\n",
      "Splitting dataset into training and test sets ...\n",
      "Dataset split complete: 2000642 training samples, 666881 test samples.\n",
      "Training the KNN classifier ...\n"
     ]
    },
    {
     "name": "stderr",
     "output_type": "stream",
     "text": [
      "Training model: 100%|████████████████████████████████████████████████████████████████████| 1/1 [00:00<00:00,  8.03it/s]"
     ]
    },
    {
     "name": "stdout",
     "output_type": "stream",
     "text": [
      "Model training complete.\n",
      "Making predictions on the test set ...\n"
     ]
    },
    {
     "name": "stderr",
     "output_type": "stream",
     "text": [
      "\n"
     ]
    }
   ],
   "source": [
    "def main():\n",
    "    start = datetime.now()\n",
    "    \n",
    "    ml = MachineLearning()\n",
    "    ml.flow_training()\n",
    "\n",
    "    end = datetime.now()\n",
    "    print(\"Training time: \", (end-start)) \n",
    "\n",
    "if __name__ == \"__main__\":\n",
    "    main()"
   ]
  },
  {
   "cell_type": "code",
   "execution_count": null,
   "id": "ed6e4f3c-131c-46af-86e8-02bc6f1ca12f",
   "metadata": {},
   "outputs": [],
   "source": []
  }
 ],
 "metadata": {
  "kernelspec": {
   "display_name": "Python 3 (ipykernel)",
   "language": "python",
   "name": "python3"
  },
  "language_info": {
   "codemirror_mode": {
    "name": "ipython",
    "version": 3
   },
   "file_extension": ".py",
   "mimetype": "text/x-python",
   "name": "python",
   "nbconvert_exporter": "python",
   "pygments_lexer": "ipython3",
   "version": "3.12.0b4"
  }
 },
 "nbformat": 4,
 "nbformat_minor": 5
}
